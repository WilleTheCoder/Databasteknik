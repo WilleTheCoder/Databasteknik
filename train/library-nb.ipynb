{
 "cells": [
  {
   "cell_type": "markdown",
   "id": "b5657147",
   "metadata": {},
   "source": [
    "<!-- -*- mode: markdown; coding: utf-8; fill-column: 60; ispell-dictionary: \"english\" -*- -->\n",
    "\n",
    "<meta charset=\"utf-8\"/>\n",
    "<meta name=\"viewport\" content=\"width=device-width,initial-scale=1\"/>\n",
    "<link rel=\"stylesheet\" href=\"style.css\">\n",
    "\n",
    "\n",
    "# EDAF75 -- exercise, week 2\n",
    "\n",
    "\n",
    "To be able to write SQL queries in this notebook, we first\n",
    "have to run:"
   ]
  },
  {
   "cell_type": "code",
   "execution_count": null,
   "id": "560ebe81",
   "metadata": {},
   "outputs": [],
   "source": [
    "%load_ext sql"
   ]
  },
  {
   "cell_type": "markdown",
   "id": "591caa6a",
   "metadata": {},
   "source": [
    "We next want a SQLite3 database, and since we'll create\n",
    "everything from scratch this time, we get to decide what\n",
    "name we want to use:"
   ]
  },
  {
   "cell_type": "code",
   "execution_count": null,
   "id": "0817462d",
   "metadata": {},
   "outputs": [],
   "source": [
    "%sql sqlite:///library.sqlite"
   ]
  },
  {
   "cell_type": "markdown",
   "id": "8816cfeb",
   "metadata": {},
   "source": [
    "This will save the database in a file `library.sqlite` in\n",
    "the directory from which you started Jupyter.\n",
    "\n",
    "Now we're good to go, we just have to prefix our SQL queries\n",
    "with `%sql` (one line of SQL) or `%%sql` (several lines of\n",
    "SQL, this is the form we will use in most cases).\n",
    "\n",
    "\n",
    "# Modeling\n",
    "\n",
    "We did this during the lecture, you can see the problem text\n",
    "and the resulting ER model in the [lecture\n",
    "notes](https://fileadmin.cs.lth.se/cs/Education/edaf75/0e8f536b-5381-43de-8803-e438d148f6bc/notes-03.html).\n",
    "\n",
    "# Translating the model into tables\n",
    "\n",
    "Now try to write `CREATE TABLE` statements for the model, I\n",
    "suggest you add `DROP TABLE IF EXISTS` before each time you\n",
    "create a new table, so you can evaluate the cell below\n",
    "several times (to get things right).\n",
    "\n",
    "In total you should create 11 tables in the cell below:"
   ]
  },
  {
   "cell_type": "code",
   "execution_count": null,
   "id": "d1ece271",
   "metadata": {},
   "outputs": [],
   "source": [
    "%%sql\n"
   ]
  },
  {
   "cell_type": "markdown",
   "id": "d1ba70ba",
   "metadata": {},
   "source": [
    "# Inserting data\n",
    "\n",
    "Now we need some data to work with, and I suggest you begin\n",
    "by inserting some authors (I have a list of Nobel laureates\n",
    "below, in the Extra section)..."
   ]
  },
  {
   "cell_type": "code",
   "execution_count": null,
   "id": "1f811742",
   "metadata": {},
   "outputs": [],
   "source": [
    "%%sql\n"
   ]
  },
  {
   "cell_type": "markdown",
   "id": "90c8da34",
   "metadata": {},
   "source": [
    "..., then some books (preferably written by the authors you\n",
    "just inserted -- there are some books in the Extra section\n",
    "below) ..."
   ]
  },
  {
   "cell_type": "code",
   "execution_count": null,
   "id": "e5a803d8",
   "metadata": {},
   "outputs": [],
   "source": [
    "%%sql\n"
   ]
  },
  {
   "cell_type": "markdown",
   "id": "1f612fe1",
   "metadata": {},
   "source": [
    "..., and then we need to make sure to note who wrote what\n",
    "(we should insert that into the `authorship` table):"
   ]
  },
  {
   "cell_type": "code",
   "execution_count": null,
   "id": "a5557d50",
   "metadata": {},
   "outputs": [],
   "source": [
    "%%sql\n"
   ]
  },
  {
   "cell_type": "markdown",
   "id": "2929fb6c",
   "metadata": {},
   "source": [
    "Then, before we create copies of our books, we need to have\n",
    "a library to put them in, and to do that we need somewhere\n",
    "to put the library.\n",
    "\n",
    "So, add values tables as necessary to create a couple of\n",
    "copies of some of your books."
   ]
  },
  {
   "cell_type": "code",
   "execution_count": null,
   "id": "2d9bc32c",
   "metadata": {},
   "outputs": [],
   "source": [
    "%%sql\n"
   ]
  },
  {
   "cell_type": "markdown",
   "id": "37a926b4",
   "metadata": {},
   "source": [
    "Now we need some borrowers, and some library cards, so go\n",
    "insert some of them:"
   ]
  },
  {
   "cell_type": "code",
   "execution_count": null,
   "id": "4361e54c",
   "metadata": {},
   "outputs": [],
   "source": [
    "%%sql\n"
   ]
  },
  {
   "cell_type": "markdown",
   "id": "608c7ecd",
   "metadata": {},
   "source": [
    "And finally let someone borrow something (if you want, you\n",
    "can skip the business of creating librarians, we'll assume\n",
    "everything is handled automatically):"
   ]
  },
  {
   "cell_type": "code",
   "execution_count": null,
   "id": "56e6403d",
   "metadata": {},
   "outputs": [],
   "source": [
    "%%sql\n"
   ]
  },
  {
   "cell_type": "markdown",
   "id": "5fe6a403",
   "metadata": {},
   "source": [
    "# Queries\n",
    "\n",
    "Now you can practice querying the database, here are some\n",
    "suggestions (you can try the structure of your queries\n",
    "without adding any data, but without data it's harder to see\n",
    "if the query is correct):\n",
    "\n",
    "+ Find all book titles by \"Tomas Tranströmer\", or whatever\n",
    "  favorite author you may have (it really should be\n",
    "  Tranströmer, though)."
   ]
  },
  {
   "cell_type": "code",
   "execution_count": null,
   "id": "13d53b94",
   "metadata": {},
   "outputs": [],
   "source": [
    "%%sql\n"
   ]
  },
  {
   "cell_type": "markdown",
   "id": "0ea5d9f6",
   "metadata": {},
   "source": [
    "+ Once again, list all book titles by your favorite author,\n",
    "  but this time show how many copies we have of each book."
   ]
  },
  {
   "cell_type": "code",
   "execution_count": null,
   "id": "9513b4c4",
   "metadata": {},
   "outputs": [],
   "source": [
    "%%sql\n"
   ]
  },
  {
   "cell_type": "markdown",
   "id": "3fdcde7a",
   "metadata": {},
   "source": [
    "+ Find all copies (just copy id) who hasn't been borrowed\n",
    "  since 2016-01-01."
   ]
  },
  {
   "cell_type": "code",
   "execution_count": null,
   "id": "8ef20109",
   "metadata": {},
   "outputs": [],
   "source": [
    "%%sql\n"
   ]
  },
  {
   "cell_type": "markdown",
   "id": "8ac6ea35",
   "metadata": {},
   "source": [
    "+ Find all copies (copy id and book title) who hasn't been\n",
    "  borrowed since 2016-01-01."
   ]
  },
  {
   "cell_type": "code",
   "execution_count": null,
   "id": "6349595f",
   "metadata": {},
   "outputs": [],
   "source": [
    "%%sql\n"
   ]
  },
  {
   "cell_type": "markdown",
   "id": "7ebac5ca",
   "metadata": {},
   "source": [
    "+ Find all book titles who hasn't been borrowed since\n",
    "  2016-01-01."
   ]
  },
  {
   "cell_type": "code",
   "execution_count": null,
   "id": "7d5511f4",
   "metadata": {},
   "outputs": [],
   "source": [
    "%%sql\n"
   ]
  },
  {
   "cell_type": "markdown",
   "id": "3b65a2cb",
   "metadata": {},
   "source": [
    "+ List Anna Bokstavs three favorite authors (i.e., the three\n",
    "  authors whose books she has borrowed the most)."
   ]
  },
  {
   "cell_type": "code",
   "execution_count": null,
   "id": "cbeedffd",
   "metadata": {},
   "outputs": [],
   "source": [
    "%%sql\n"
   ]
  },
  {
   "cell_type": "markdown",
   "id": "6b728f94",
   "metadata": {},
   "source": [
    "+ Your own query"
   ]
  },
  {
   "cell_type": "code",
   "execution_count": null,
   "id": "ed1d0f91",
   "metadata": {},
   "outputs": [],
   "source": [
    "%%sql\n",
    "  "
   ]
  },
  {
   "cell_type": "markdown",
   "id": "a17c2feb",
   "metadata": {},
   "source": [
    "+ Your own query"
   ]
  },
  {
   "cell_type": "code",
   "execution_count": null,
   "id": "711651d6",
   "metadata": {},
   "outputs": [],
   "source": [
    "%%sql\n"
   ]
  },
  {
   "cell_type": "markdown",
   "id": "28d01df0",
   "metadata": {},
   "source": [
    "+ Your own query"
   ]
  },
  {
   "cell_type": "code",
   "execution_count": null,
   "id": "14385416",
   "metadata": {},
   "outputs": [],
   "source": [
    "%%sql\n"
   ]
  },
  {
   "cell_type": "markdown",
   "id": "2c3999dc",
   "metadata": {},
   "source": [
    "+ Your own query"
   ]
  },
  {
   "cell_type": "code",
   "execution_count": null,
   "id": "7eb8823e",
   "metadata": {},
   "outputs": [],
   "source": [
    "%%sql\n"
   ]
  },
  {
   "cell_type": "markdown",
   "id": "68119ae0",
   "metadata": {},
   "source": [
    "+ Your own query"
   ]
  },
  {
   "cell_type": "code",
   "execution_count": null,
   "id": "36809ae9",
   "metadata": {},
   "outputs": [],
   "source": [
    "%%sql\n"
   ]
  },
  {
   "cell_type": "markdown",
   "id": "a8274a4b",
   "metadata": {},
   "source": [
    "+ Your own query"
   ]
  },
  {
   "cell_type": "code",
   "execution_count": null,
   "id": "2f0adb5a",
   "metadata": {},
   "outputs": [],
   "source": [
    "%%sql\n"
   ]
  },
  {
   "cell_type": "markdown",
   "id": "87ae9dc4",
   "metadata": {},
   "source": [
    "# Extra: Python preparation\n",
    "\n",
    "You don't have to learn Python to take this course, but lab\n",
    "3 and the project will become much easier if you know some\n",
    "Python.\n",
    "\n",
    "There is a video tutorial in the syllabus, and if you want\n",
    "some practice, I suggest you save the list of Nobel\n",
    "laureates below in a [csv\n",
    "file](https://en.wikipedia.org/wiki/Comma-separated_values),\n",
    "and then run this python code to generate suitable insert\n",
    "statements (you can't run this cell, since it is looking for\n",
    "a filename given on the command line):"
   ]
  },
  {
   "cell_type": "code",
   "execution_count": null,
   "id": "5550698d",
   "metadata": {},
   "outputs": [],
   "source": [
    "import sys\n",
    "\n",
    "def main():\n",
    "    filename = sys.argv[1]\n",
    "    with open(filename) as f:\n",
    "        for line in f:\n",
    "            [ssn, name, country, birth_year] = [s.strip() for s in line.split(';')]\n",
    "            print(f'        (\"{ssn}\", \"{name}\", \"{country}\", {birth_year}),')\n",
    "\n",
    "\n",
    "if __name__ == \"__main__\":\n",
    "    main()"
   ]
  },
  {
   "cell_type": "markdown",
   "id": "0febae70",
   "metadata": {},
   "source": [
    "This may look strange if you haven't seen Python before, but\n",
    "this small program covers a surprisingly big part of what\n",
    "you're going to need to use Python for lab 3 and the\n",
    "project, and I'll be happy to answer any questions about it\n",
    "during the QA sessions. (BTW, there is a great Python\n",
    "library for reading CSV files, and it could certainly have\n",
    "been used here, but I wanted to show you some common Python\n",
    "idioms without too much bells and whistles.)\n",
    "\n",
    "If you save the code above in a file\n",
    "`generate-author-inserts.py`, and the authors in a file\n",
    "`authors.csv`, you can run"
   ]
  },
  {
   "cell_type": "markdown",
   "id": "c7e26c89",
   "metadata": {},
   "source": [
    "```{.sh}\n",
    "  python generate-author-inserts.py authors.csv\n",
    "```\n"
   ]
  },
  {
   "cell_type": "markdown",
   "id": "f01611ac",
   "metadata": {},
   "source": [
    "to get a list of values which can be used in an insert\n",
    "statement for the authors (you need to come up with the\n",
    "first part of the `INSERT` statement yourself).\n",
    "\n",
    "And then try to write your own adaption of the code above,\n",
    "in a file `generate-books.py`, which generates values to\n",
    "insert into the `books` table -- you can paste the following\n",
    "books into a file `books.csv` (they are all by Tomas\n",
    "Tranströmer -- most, but not all, of the isbn numbers are\n",
    "fake, I couldn't find the correct ones):"
   ]
  },
  {
   "cell_type": "markdown",
   "id": "d04f2750",
   "metadata": {},
   "source": [
    "```{.text}\n",
    "1954,17 dikter,9780241362458\n",
    "1958,Hemligheter på vägen,978024136566\n",
    "1962,Den halvfärdiga himlen,9780241362822\n",
    "1966,Klanger och spår,9789100103124\n",
    "1970,Mörkerseende,9780900626746\n",
    "1973,Stigar,9789100101648\n",
    "1974,Östersjöar,9789188152039\n",
    "1978,Sanningsbarriären,9789100104566\n",
    "1983,Det vilda torget,9789100106484\n",
    "1989,För levande och döda,9789100108445\n",
    "1996,Sorgegondolen,9789100562328\n",
    "2001,Fängelse,9789100102485\n",
    "2004,Den stora gåtan,9789100103101\n",
    "```\n"
   ]
  },
  {
   "cell_type": "markdown",
   "id": "73d34133",
   "metadata": {},
   "source": [
    "Here I've used commas (,) as a separator (in the list of\n",
    "Nobel laureates read by the program above, I hade used\n",
    "semicolons), so you need to adapt for that in your program.\n",
    "\n",
    "\n",
    "## Nobel laureates in literature\n",
    "\n",
    "Observe that I've used semicolon (;) as a separator in this\n",
    "listing (the format is called _Comma-Separated-Value_, other\n",
    "separators, such as semicolon, tabs, colons, etc., are quite\n",
    "often used -- in this case a comma would make it harder to\n",
    "parse the rows, since the names contain a comma)."
   ]
  },
  {
   "cell_type": "markdown",
   "id": "35e71fd7",
   "metadata": {},
   "source": [
    "~~~{.text}\n",
    "18390316-1901;Prudhomme, Sully;France;1839\n",
    "18171130-1902;Mommsen, Theodor;Germany;1817\n",
    "18321208-1903;Bjørnson, Bjørnstjerne;Norway;1832\n",
    "18320419-1904;Echegaray, José;Spain;1832\n",
    "18300908-1904;Mistral, Frédéric;France;1830\n",
    "18460505-1905;Sienkiewicz, Henryk;Poland;1846\n",
    "18350727-1906;Carducci, Giosuè;Italy;1835\n",
    "18651230-1907;Kipling, Rudyard;India;1865\n",
    "18460105-1908;Eucken, Rudolf;Germany;1846\n",
    "18581120-1909;Lagerlöf, Selma;Sweden;1858\n",
    "18300315-1910;Heyse, Paul;Germany;1830\n",
    "18620829-1911;Maeterlinck, Maurice;Belgium;1862\n",
    "18621115-1912;Hauptmann, Gerhart;Poland;1862\n",
    "18610507-1913;Tagore, Rabindranath;India;1861\n",
    "18660129-1915;Rolland, Romain;France;1866\n",
    "18590706-1916;von Heidenstam, Verner;Sweden;1859\n",
    "18570602-1917;Gjellerup, Karl;Denmark;1857\n",
    "18570724-1917;Pontoppidan, Henrik;Denmark;1857\n",
    "18450424-1919;Spitteler, Carl;Switzerland;1845\n",
    "18590804-1920;Hamsun, Knut;Norway;1859\n",
    "18440416-1921;France, Anatole;France;1844\n",
    "18660812-1922;Benavente, Jacinto;Spain;1866\n",
    "18650613-1923;Yeats, William Butler;Ireland;1865\n",
    "18670507-1924;Reymont, Wladyslaw;Poland;1867\n",
    "18560726-1925;Shaw, George Bernard;Ireland;1856\n",
    "18710927-1926;Deledda, Grazia;Italy;1871\n",
    "18591018-1927;Bergson, Henri;France;1859\n",
    "18820520-1928;Undset, Sigrid;Denmark;1882\n",
    "18750606-1929;Mann, Thomas;Germany;1875\n",
    "18850207-1930;Lewis, Sinclair;USA;1885\n",
    "18640720-1931;Karlfeldt, Erik Axel;Sweden;1864\n",
    "18670814-1932;Galsworthy, John;United Kingdom;1867\n",
    "18701022-1933;Bunin, Ivan;Russia;1870\n",
    "18670628-1934;Pirandello, Luigi;Italy;1867\n",
    "18881016-1936;O'Neill, Eugene;USA;1888\n",
    "18810323-1937;Martin du Gard, Roger;France;1881\n",
    "18920626-1938;Buck, Pearl;USA;1892\n",
    "18880916-1939;Sillanpää, Frans Eemil;Finland;1888\n",
    "18730120-1944;Jensen, Johannes V.;Denmark;1873\n",
    "18890407-1945;Mistral, Gabriela;Chile;1889\n",
    "18770702-1946;Hesse, Hermann;Germany;1877\n",
    "18691122-1947;Gide, André;France;1869\n",
    "18880926-1948;Eliot, T.S.;USA;1888\n",
    "18970925-1949;Faulkner, William;USA;1897\n",
    "18720518-1950;Russell, Bertrand;United Kingdom;1872\n",
    "18910523-1951;Lagerkvist, Pär;Sweden;1891\n",
    "18851011-1952;Mauriac, François;France;1885\n",
    "18741130-1953;Churchill, Winston;United Kingdom;1874\n",
    "18990721-1954;Hemingway, Ernest;USA;1899\n",
    "19020423-1955;Laxness, Halldór;Iceland;1902\n",
    "18811224-1956;Jiménez, Juan Ramón;Spain;1881\n",
    "19131107-1957;Camus, Albert;Algeria;1913\n",
    "18900210-1958;Pasternak, Boris;Russia;1890\n",
    "19010820-1959;Quasimodo, Salvatore;Italy;1901\n",
    "18870531-1960;Perse, Saint-John;Guadeloupe Island;1887\n",
    "18921010-1961;Andric, Ivo;Bosnia and Herzegovina;1892\n",
    "19020227-1962;Steinbeck, John;USA;1902\n",
    "19000313-1963;Seferis, Giorgos;Turkey;1900\n",
    "19050621-1964;Sartre, Jean-Paul;France;1905\n",
    "19050524-1965;Sholokhov, Mikhail;Russia;1905\n",
    "18880717-1966;Agnon, Shmuel;Ukraine;1888\n",
    "18911210-1966;Sachs, Nelly;Germany;1891\n",
    "18991019-1967;Asturias, Miguel Angel;Guatemala;1899\n",
    "18990611-1968;Kawabata, Yasunari;Japan;1899\n",
    "19060413-1969;Beckett, Samuel;Ireland;1906\n",
    "19181211-1970;Solzhenitsyn, Alexandr;Russia;1918\n",
    "19040712-1971;Neruda, Pablo;Chile;1904\n",
    "19171221-1972;Böll, Heinrich;Germany;1917\n",
    "19120528-1973;White, Patrick;United Kingdom;1912\n",
    "19000729-1974;Johnson, Eyvind;Sweden;1900\n",
    "19040506-1974;Martinson, Harry;Sweden;1904\n",
    "18961012-1975;Montale, Eugenio;Italy;1896\n",
    "19150610-1976;Bellow, Saul;Canada;1915\n",
    "18980426-1977;Aleixandre, Vicente;Spain;1898\n",
    "19040714-1978;Singer, Isaac Bashevis;Poland;1904\n",
    "19111102-1979;Elytis, Odysseus;Greece;1911\n",
    "19110630-1980;Milosz, Czeslaw;Lithuania;1911\n",
    "19050725-1981;Canetti, Elias;Bulgaria;1905\n",
    "19270306-1982;García Márquez, Gabriel;Colombia;1927\n",
    "19110919-1983;Golding, William;United Kingdom;1911\n",
    "19010923-1984;Seifert, Jaroslav;Czech Republic;1901\n",
    "19131010-1985;Simon, Claude;Madagascar;1913\n",
    "19340713-1986;Soyinka, Wole;Nigeria;1934\n",
    "19400524-1987;Brodsky, Joseph;Russia;1940\n",
    "19111211-1988;Mahfouz, Naguib;Egypt;1911\n",
    "19160511-1989;Cela, Camilo José;Spain;1916\n",
    "19140331-1990;Paz, Octavio;Mexico;1914\n",
    "19231120-1991;Gordimer, Nadine;South Africa;1923\n",
    "19300123-1992;Walcott, Derek;Saint Lucia;1930\n",
    "19310218-1993;Morrison, Toni;USA;1931\n",
    "19350131-1994;Oe, Kenzaburo;Japan;1935\n",
    "19390413-1995;Heaney, Seamus;Northern Ireland;1939\n",
    "19230702-1996;Szymborska, Wislawa;Poland;1923\n",
    "19260324-1997;Fo, Dario;Italy;1926\n",
    "19221116-1998;Saramago, José;Portugal;1922\n",
    "19271016-1999;Grass, Günter;Poland;1927\n",
    "19400104-2000;Gao, Xingjian;China;1940\n",
    "19320817-2001;Naipaul, V. S.;Trinidad and Tobago;1932\n",
    "19291109-2002;Kertész, Imre;Hungary;1929\n",
    "19400209-2003;Coetzee, J. M.;South Africa;1940\n",
    "19461020-2004;Jelinek, Elfriede;Austria;1946\n",
    "19301010-2005;Pinter, Harold;United Kingdom;1930\n",
    "19520607-2006;Pamuk, Orhan;Turkey;1952\n",
    "19191022-2007;Lessing, Doris;Iran;1919\n",
    "19400413-2008;Le Clézio, Jean-Marie Gustave;France;1940\n",
    "19530817-2009;Müller, Herta;Romania;1953\n",
    "19360328-2010;Vargas Llosa, Mario;Peru;1936\n",
    "19310415-2011;Tranströmer, Tomas;Sweden;1931\n",
    "19550202-2012;Yan, Mo;China;1955\n",
    "19310710-2013;Munro, Alice;Canada;1931\n",
    "19450730-2014;Modiano, Patrick;France;1945\n",
    "19480531-2015;Alexievich, Svetlana;Ukraine;1948\n",
    "19410524-2016;Dylan, Bob;USA;1941\n",
    "19541108-2017;Ishiguro, Kazuo;Japan;1954\n",
    "19620129-2018;Tokarczuk, Olga;Poland;1962\n",
    "19421206-2019;Handke, Peter;Austria;1942\n",
    "~~~\n"
   ]
  }
 ],
 "metadata": {},
 "nbformat": 4,
 "nbformat_minor": 5
}
